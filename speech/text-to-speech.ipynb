{
 "cells": [
  {
   "cell_type": "markdown",
   "id": "db3286c1-31f8-412c-99c2-be50b1fc2c67",
   "metadata": {},
   "source": [
    "# Resources\n",
    "https://learn.microsoft.com/en-us/azure/ai-services/speech-service/quickstarts/setup-platform?pivots=programming-language-python&tabs=windows%2Cubuntu%2Cdotnetcli%2Cdotnet%2Cjre%2Cmaven%2Cnodejs%2Cmac%2Cpypi\n",
    "https://github.com/Azure-Samples/cognitive-services-speech-sdk/tree/master/samples/python/console"
   ]
  },
  {
   "cell_type": "code",
   "execution_count": 1,
   "id": "903c9074-df43-4ca9-a181-b0bd37079f29",
   "metadata": {
    "tags": []
   },
   "outputs": [
    {
     "name": "stdout",
     "output_type": "stream",
     "text": [
      "Requirement already satisfied: azure-cognitiveservices-speech in /anaconda/envs/azureml_py310_sdkv2/lib/python3.10/site-packages (1.40.0)\n",
      "Note: you may need to restart the kernel to use updated packages.\n"
     ]
    }
   ],
   "source": [
    "%pip install azure-cognitiveservices-speech"
   ]
  },
  {
   "cell_type": "code",
   "execution_count": 2,
   "id": "5c8a03c2-029a-4ef3-a1a4-eef5c1f50d70",
   "metadata": {
    "tags": []
   },
   "outputs": [],
   "source": [
    "import os\n",
    "import azure.cognitiveservices.speech as speechsdk"
   ]
  },
  {
   "cell_type": "code",
   "execution_count": 3,
   "id": "468595e8-601a-4779-9953-20ef88647f8e",
   "metadata": {
    "tags": []
   },
   "outputs": [],
   "source": [
    "apikey = \"###\"\n",
    "endpoint = \"https://####.cognitiveservices.azure.com/\"\n",
    "region = 'westus'"
   ]
  },
  {
   "cell_type": "code",
   "execution_count": 4,
   "id": "14c6f968-090a-4f87-a05b-eb5ec67854d6",
   "metadata": {
    "tags": []
   },
   "outputs": [],
   "source": [
    "speech_config = speechsdk.SpeechConfig(subscription=apikey, region=region)\n",
    "# audio_config = speechsdk.audio.AudioOutputConfig(use_default_speaker=True)"
   ]
  },
  {
   "cell_type": "code",
   "execution_count": 5,
   "id": "3cbc3651-7281-43dd-9949-f162f41da154",
   "metadata": {
    "tags": []
   },
   "outputs": [],
   "source": [
    "speech_config.speech_synthesis_voice_name='en-US-AvaMultilingualNeural'"
   ]
  },
  {
   "cell_type": "code",
   "execution_count": 6,
   "id": "f85bb3c7-9a08-4362-9ad1-8ecbe5f62edf",
   "metadata": {
    "tags": []
   },
   "outputs": [],
   "source": [
    "speech_synthesizer = speechsdk.SpeechSynthesizer(speech_config=speech_config, audio_config=None)"
   ]
  },
  {
   "cell_type": "code",
   "execution_count": 7,
   "id": "5205a9fe-a30f-48ed-b1a1-497d241fe15e",
   "metadata": {
    "tags": []
   },
   "outputs": [],
   "source": [
    "text = \"I am eating sushi.\""
   ]
  },
  {
   "cell_type": "code",
   "execution_count": 8,
   "id": "127d54cd-c2e5-4f34-a362-2a8c6dc79121",
   "metadata": {
    "tags": []
   },
   "outputs": [],
   "source": [
    "results = speech_synthesizer.speak_text_async(text).get()"
   ]
  },
  {
   "cell_type": "code",
   "execution_count": 9,
   "id": "f4fd041d-071b-4ae2-ae86-5e777571a76e",
   "metadata": {
    "tags": []
   },
   "outputs": [
    {
     "name": "stdout",
     "output_type": "stream",
     "text": [
      "Speech synthesized for text [I am eating sushi.]\n",
      "Audio saved to output.wav\n"
     ]
    }
   ],
   "source": [
    "output_file = \"output.wav\"\n",
    "\n",
    "if results.reason == speechsdk.ResultReason.SynthesizingAudioCompleted:\n",
    "    print(\"Speech synthesized for text [{}]\".format(text))\n",
    "    stream = speechsdk.AudioDataStream(results)\n",
    "    stream.save_to_wav_file(output_file)\n",
    "    print(f\"Audio saved to {output_file}\")    \n",
    "elif results.reason == speechsdk.ResultReason.Canceled:\n",
    "    print(\"Speech synthesis canceled: {}\".format(cancellation_details.reason))\n",
    "    if cancellation_details.reason == speechsdk.CancellationReason.Error:\n",
    "        if cancellation_details.error_details:\n",
    "            print(\"Error details: {}\".format(cancellation_details.error_details))\n",
    "            print(\"Did you set the speech resource key and region values?\")"
   ]
  },
  {
   "cell_type": "code",
   "execution_count": 10,
   "id": "f576dc8d-8b49-4a3e-acbe-f00dbe73ee3e",
   "metadata": {
    "tags": []
   },
   "outputs": [
    {
     "name": "stdout",
     "output_type": "stream",
     "text": [
      "SpeechSynthesisResult(result_id=ca673c0009de4fe49968c0e08a4eae29, reason=ResultReason.SynthesizingAudioCompleted, audio_length=65646)\n"
     ]
    }
   ],
   "source": [
    "print(results)"
   ]
  }
 ],
 "metadata": {
  "kernelspec": {
   "display_name": "Python 3.10 - SDK v2",
   "language": "python",
   "name": "python310-sdkv2"
  },
  "language_info": {
   "codemirror_mode": {
    "name": "ipython",
    "version": 3
   },
   "file_extension": ".py",
   "mimetype": "text/x-python",
   "name": "python",
   "nbconvert_exporter": "python",
   "pygments_lexer": "ipython3",
   "version": "3.10.14"
  }
 },
 "nbformat": 4,
 "nbformat_minor": 5
}
