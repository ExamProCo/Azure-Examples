{
 "cells": [
  {
   "cell_type": "code",
   "execution_count": 1,
   "id": "b2df4c50-6116-498d-9db9-f4d2dc91e5f4",
   "metadata": {
    "tags": []
   },
   "outputs": [
    {
     "name": "stdout",
     "output_type": "stream",
     "text": [
      "Requirement already satisfied: azure-cognitiveservices-speech in /anaconda/envs/azureml_py310_sdkv2/lib/python3.10/site-packages (1.40.0)\n",
      "Note: you may need to restart the kernel to use updated packages.\n"
     ]
    }
   ],
   "source": [
    "%pip install azure-cognitiveservices-speech"
   ]
  },
  {
   "cell_type": "code",
   "execution_count": 2,
   "id": "a870fedc-0b13-435d-a7e1-cc6007399aec",
   "metadata": {
    "tags": []
   },
   "outputs": [],
   "source": [
    "import os\n",
    "import azure.cognitiveservices.speech as speechsdk"
   ]
  },
  {
   "cell_type": "code",
   "execution_count": 3,
   "id": "0cb80bd7-e02c-4b86-9258-b27007f47269",
   "metadata": {
    "tags": []
   },
   "outputs": [],
   "source": [
    "apikey = \"###\"\n",
    "endpoint = \"https://####.cognitiveservices.azure.com/\"\n",
    "region = 'westus'"
   ]
  },
  {
   "cell_type": "code",
   "execution_count": 8,
   "id": "bab00bec-cb64-419f-b2ab-e1d507aa2fcf",
   "metadata": {
    "tags": []
   },
   "outputs": [],
   "source": [
    "audio_file_path = \"output.wav\""
   ]
  },
  {
   "cell_type": "code",
   "execution_count": 9,
   "id": "a7cc8601-a33b-47d6-be48-d8cc08fa4ffa",
   "metadata": {
    "tags": []
   },
   "outputs": [],
   "source": [
    "speech_config = speechsdk.SpeechConfig(subscription=apikey, region=region)\n",
    "audio_config = speechsdk.audio.AudioConfig(filename=audio_file_path)"
   ]
  },
  {
   "cell_type": "code",
   "execution_count": 10,
   "id": "e77323a5-1cbe-4200-abe2-ab450b95220d",
   "metadata": {
    "tags": []
   },
   "outputs": [],
   "source": [
    "speech_config.speech_recognition_language = \"en-US\""
   ]
  },
  {
   "cell_type": "code",
   "execution_count": 11,
   "id": "9bc89f31-57ee-4723-9bbc-145cafcb8448",
   "metadata": {
    "tags": []
   },
   "outputs": [],
   "source": [
    "speech_recognizer = speechsdk.SpeechRecognizer(speech_config=speech_config, audio_config=audio_config)"
   ]
  },
  {
   "cell_type": "code",
   "execution_count": 12,
   "id": "c122ebda-afc4-4d1b-b29c-51a0b3ab3d2f",
   "metadata": {
    "tags": []
   },
   "outputs": [],
   "source": [
    "# Start speech recognition\n",
    "result = speech_recognizer.recognize_once_async().get()"
   ]
  },
  {
   "cell_type": "code",
   "execution_count": 13,
   "id": "a1e9637e-e402-46b1-8009-4557f312ec1d",
   "metadata": {
    "tags": []
   },
   "outputs": [
    {
     "name": "stdout",
     "output_type": "stream",
     "text": [
      "Recognized: Tar Trek is the still the best sci-fi TV show.\n"
     ]
    }
   ],
   "source": [
    "# Process the result\n",
    "if result.reason == speechsdk.ResultReason.RecognizedSpeech:\n",
    "    print(\"Recognized: {}\".format(result.text))\n",
    "elif result.reason == speechsdk.ResultReason.NoMatch:\n",
    "    print(\"No speech could be recognized: {}\".format(result.no_match_details))\n",
    "elif result.reason == speechsdk.ResultReason.Canceled:\n",
    "    cancellation_details = result.cancellation_details\n",
    "    print(\"Speech Recognition canceled: {}\".format(cancellation_details.reason))\n",
    "    if cancellation_details.reason == speechsdk.CancellationReason.Error:\n",
    "        print(\"Error details: {}\".format(cancellation_details.error_details))"
   ]
  },
  {
   "cell_type": "code",
   "execution_count": null,
   "id": "b25248b3-3384-4eb2-8da1-457258ce151c",
   "metadata": {},
   "outputs": [],
   "source": []
  }
 ],
 "metadata": {
  "kernelspec": {
   "display_name": "Python 3.10 - SDK v2",
   "language": "python",
   "name": "python310-sdkv2"
  },
  "language_info": {
   "codemirror_mode": {
    "name": "ipython",
    "version": 3
   },
   "file_extension": ".py",
   "mimetype": "text/x-python",
   "name": "python",
   "nbconvert_exporter": "python",
   "pygments_lexer": "ipython3",
   "version": "3.10.14"
  }
 },
 "nbformat": 4,
 "nbformat_minor": 5
}
