{
 "cells": [
  {
   "cell_type": "code",
   "execution_count": 1,
   "id": "9e19b64c-a588-43c0-a8d0-650057724596",
   "metadata": {
    "tags": []
   },
   "outputs": [
    {
     "name": "stdout",
     "output_type": "stream",
     "text": [
      "Requirement already satisfied: azure-cognitiveservices-speech in /anaconda/envs/azureml_py310_sdkv2/lib/python3.10/site-packages (1.40.0)\n",
      "Note: you may need to restart the kernel to use updated packages.\n"
     ]
    }
   ],
   "source": [
    "%pip install azure-cognitiveservices-speech"
   ]
  },
  {
   "cell_type": "code",
   "execution_count": 2,
   "id": "3d37ffa7-d165-4bbf-9c81-55328ccd8cb0",
   "metadata": {
    "tags": []
   },
   "outputs": [],
   "source": [
    "import os\n",
    "import azure.cognitiveservices.speech as speechsdk"
   ]
  },
  {
   "cell_type": "code",
   "execution_count": 8,
   "id": "13f155f5-3964-4e56-8b69-1861ce8c062e",
   "metadata": {
    "tags": []
   },
   "outputs": [],
   "source": [
    "apikey = \"###\"\n",
    "endpoint = \"https://####.cognitiveservices.azure.com/\"\n",
    "region = 'westus'\n",
    "\n",
    "audio_file_path = \"output.wav\"\n",
    "from_language = \"en-US\"\n",
    "to_language = \"ja\""
   ]
  },
  {
   "cell_type": "code",
   "execution_count": 4,
   "id": "4d2941e1-9d14-48d1-bbe9-3f6638d78209",
   "metadata": {
    "tags": []
   },
   "outputs": [],
   "source": [
    "translation_config = speechsdk.translation.SpeechTranslationConfig(subscription=apikey, region=region)"
   ]
  },
  {
   "cell_type": "code",
   "execution_count": 5,
   "id": "eff5c4b9-842c-4bc2-a335-4221d232e954",
   "metadata": {
    "tags": []
   },
   "outputs": [],
   "source": [
    " translation_config.speech_recognition_language = from_language"
   ]
  },
  {
   "cell_type": "code",
   "execution_count": 6,
   "id": "8fba794f-1116-43f7-a1f7-56e43b10ee51",
   "metadata": {
    "tags": []
   },
   "outputs": [],
   "source": [
    "translation_config.add_target_language(to_language)"
   ]
  },
  {
   "cell_type": "code",
   "execution_count": 9,
   "id": "7ebaade3-5bb6-4b39-91a4-b4861a3da42c",
   "metadata": {
    "tags": []
   },
   "outputs": [],
   "source": [
    "audio_config = speechsdk.audio.AudioConfig(filename=audio_file_path)"
   ]
  },
  {
   "cell_type": "code",
   "execution_count": 10,
   "id": "30498cca-5f0c-4430-b62b-e724803689fe",
   "metadata": {
    "tags": []
   },
   "outputs": [],
   "source": [
    "translator = speechsdk.translation.TranslationRecognizer(translation_config=translation_config, audio_config=audio_config)"
   ]
  },
  {
   "cell_type": "code",
   "execution_count": 12,
   "id": "c6c7b658-bf8b-4ef2-81de-9f177f2e3b1a",
   "metadata": {
    "tags": []
   },
   "outputs": [],
   "source": [
    "result = translator.recognize_once_async().get()"
   ]
  },
  {
   "cell_type": "code",
   "execution_count": 13,
   "id": "10f896ec-2ae3-4082-ab0e-895e24d1c981",
   "metadata": {
    "tags": []
   },
   "outputs": [
    {
     "name": "stdout",
     "output_type": "stream",
     "text": [
      "Recognized: I am eating sushi.\n",
      "Translated to ja: お寿司を食べています。\n"
     ]
    }
   ],
   "source": [
    "if result.reason == speechsdk.ResultReason.TranslatedSpeech:\n",
    "    print(f\"Recognized: {result.text}\")\n",
    "    for language, translation in result.translations.items():\n",
    "        print(f\"Translated to {language}: {translation}\")\n",
    "elif result.reason == speechsdk.ResultReason.NoMatch:\n",
    "    print(\"No speech could be recognized or translated.\")\n",
    "elif result.reason == speechsdk.ResultReason.Canceled:\n",
    "    cancellation_details = result.cancellation_details\n",
    "    print(f\"Speech Recognition canceled: {cancellation_details.reason}\")\n",
    "    if cancellation_details.reason == speechsdk.CancellationReason.Error:\n",
    "        print(f\"Error details: {cancellation_details.error_details}\")"
   ]
  },
  {
   "cell_type": "code",
   "execution_count": null,
   "id": "800bad1c-146c-4897-8cd9-a75efa895db6",
   "metadata": {},
   "outputs": [],
   "source": []
  }
 ],
 "metadata": {
  "kernelspec": {
   "display_name": "Python 3.10 - SDK v2",
   "language": "python",
   "name": "python310-sdkv2"
  },
  "language_info": {
   "codemirror_mode": {
    "name": "ipython",
    "version": 3
   },
   "file_extension": ".py",
   "mimetype": "text/x-python",
   "name": "python",
   "nbconvert_exporter": "python",
   "pygments_lexer": "ipython3",
   "version": "3.10.14"
  }
 },
 "nbformat": 4,
 "nbformat_minor": 5
}
