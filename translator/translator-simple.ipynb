{
 "cells": [
  {
   "cell_type": "code",
   "execution_count": null,
   "id": "740af78f-1a61-4611-9d34-860f657855a2",
   "metadata": {
    "tags": []
   },
   "outputs": [],
   "source": [
    "import requests, uuid, json"
   ]
  },
  {
   "cell_type": "code",
   "execution_count": null,
   "id": "56408e8e-d4f5-44c7-922c-3c7c09d19ba7",
   "metadata": {
    "tags": []
   },
   "outputs": [],
   "source": [
    "# Add your key and endpoint\n",
    "key = \"\"\n",
    "endpoint = \"https://api.cognitive.microsofttranslator.com\"\n",
    "location = \"westus\""
   ]
  },
  {
   "cell_type": "code",
   "execution_count": null,
   "id": "51a77453-001c-478f-a7c7-c1baf9346a8d",
   "metadata": {
    "tags": []
   },
   "outputs": [],
   "source": [
    "path = '/translate'\n",
    "constructed_url = endpoint + path\n",
    "\n",
    "params = {\n",
    "    'api-version': '3.0', \n",
    "    'from': 'en', \n",
    "    'to': ['fr', 'zu']\n",
    "}\n",
    "\n",
    "headers = {\n",
    "    'Ocp-Apim-Subscription-Key': key,\n",
    "    # location required if you're using a multi-service or regional (not global) resource.\n",
    "    'Ocp-Apim-Subscription-Region': location,\n",
    "    'Content-type': 'application/json',\n",
    "    'X-ClientTraceId': str(uuid.uuid4())\n",
    "}\n",
    "\n",
    "# You can pass more than one object in body.\n",
    "body = [{\n",
    "    'text': 'I would really like to drive your car around the block a few times!'\n",
    "}]\n",
    "\n",
    "request = requests.post(constructed_url, params=params, headers=headers, json=body)\n",
    "response = request.json()\n",
    "\n",
    "print(json.dumps(response, sort_keys=True, ensure_ascii=False, indent=4, separators=(',', ': ')))"
   ]
  },
  {
   "cell_type": "code",
   "execution_count": null,
   "id": "08ef75ae-be38-40f5-88b3-128595bca8a0",
   "metadata": {},
   "outputs": [],
   "source": []
  }
 ],
 "metadata": {
  "kernelspec": {
   "display_name": "Python 3.8 - AzureML",
   "language": "python",
   "name": "python38-azureml"
  },
  "language_info": {
   "codemirror_mode": {
    "name": "ipython",
    "version": 3
   },
   "file_extension": ".py",
   "mimetype": "text/x-python",
   "name": "python",
   "nbconvert_exporter": "python",
   "pygments_lexer": "ipython3",
   "version": "3.9.19"
  }
 },
 "nbformat": 4,
 "nbformat_minor": 5
}
