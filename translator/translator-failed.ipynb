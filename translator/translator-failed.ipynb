{
 "cells": [
  {
   "cell_type": "markdown",
   "id": "4c80e984-bd98-4e39-b0bd-9083c8c93dfa",
   "metadata": {},
   "source": [
    "# Resources\n",
    "https://github.com/Azure/azure-sdk-for-python/blob/main/sdk/translation/azure-ai-translation-text/README.md\n",
    "\n",
    "This attempt failed because the API is in preview and we could not find a working example. We were getting authenication issues despite using the correct API key. So instead with translator its recommended to use the WebAPI code example."
   ]
  },
  {
   "cell_type": "code",
   "execution_count": null,
   "id": "0e20cfd2-090f-4efb-901e-6557a085ecf8",
   "metadata": {
    "tags": []
   },
   "outputs": [],
   "source": [
    "%pip install azure-ai-translation-text==1.0.0b1"
   ]
  },
  {
   "cell_type": "code",
   "execution_count": null,
   "id": "de520402-8e34-40b9-8394-4e67cdcd31ff",
   "metadata": {
    "tags": []
   },
   "outputs": [],
   "source": [
    "from azure.core.credentials import AzureKeyCredential\n",
    "from azure.ai.translation.text import TextTranslationClient"
   ]
  },
  {
   "cell_type": "code",
   "execution_count": null,
   "id": "aafef02a-cde1-4500-a50b-e73adf382bf5",
   "metadata": {
    "tags": []
   },
   "outputs": [],
   "source": [
    "apikey = \"\"\n",
    "region = \"westus\"\n",
    "endpoint = \"https://api.cognitive.microsofttranslator.com/\""
   ]
  },
  {
   "cell_type": "code",
   "execution_count": null,
   "id": "5788a6fc-cd06-41da-af95-a3cea3bad772",
   "metadata": {
    "tags": []
   },
   "outputs": [],
   "source": [
    "credential = AzureKeyCredential(apikey)\n",
    "text_translator = TextTranslationClient(credential=credential,endpoint=endpoint, region=region)"
   ]
  },
  {
   "cell_type": "code",
   "execution_count": null,
   "id": "44efb28b-f93e-4383-adcd-efa663f3e7f9",
   "metadata": {
    "tags": []
   },
   "outputs": [],
   "source": [
    "try:\n",
    "    langs = [\"jp\", \"es\", \"de\"]\n",
    "    input_text = [\"This is a test\"]\n",
    "\n",
    "    response = text_translator.translate(content=input_text, to=langs)\n",
    "    translation = response[0] if response else None\n",
    "\n",
    "    if translation:\n",
    "        detected_language = translation.detected_language\n",
    "        if detected_language:\n",
    "            print(\n",
    "                f\"Detected languages of the input text: {detected_language.language} with score: {detected_language.score}.\"\n",
    "            )\n",
    "        for translated_text in translation.translations:\n",
    "            print(f\"Text was translated to: '{translated_text.to}' and the result is: '{translated_text.text}'.\")\n",
    "\n",
    "except HttpResponseError as exception:\n",
    "    if exception.error is not None:\n",
    "        print(f\"Error Code: {exception.error.code}\")\n",
    "        print(f\"Message: {exception.error.message}\")"
   ]
  },
  {
   "cell_type": "code",
   "execution_count": null,
   "id": "e41be881-4d74-4452-8d0c-136c672408aa",
   "metadata": {},
   "outputs": [],
   "source": []
  }
 ],
 "metadata": {
  "kernelspec": {
   "display_name": "Python 3.10 - SDK v2",
   "language": "python",
   "name": "python310-sdkv2"
  },
  "language_info": {
   "codemirror_mode": {
    "name": "ipython",
    "version": 3
   },
   "file_extension": ".py",
   "mimetype": "text/x-python",
   "name": "python",
   "nbconvert_exporter": "python",
   "pygments_lexer": "ipython3",
   "version": "3.10.14"
  }
 },
 "nbformat": 4,
 "nbformat_minor": 5
}
