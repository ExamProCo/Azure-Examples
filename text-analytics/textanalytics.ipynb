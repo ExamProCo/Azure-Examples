{
 "cells": [
  {
   "cell_type": "markdown",
   "id": "ad8d204c-f17c-47fe-82ce-a0ffd9893123",
   "metadata": {},
   "source": [
    "# Resources\n",
    "https://pypi.org/project/azure-ai-textanalytics/"
   ]
  },
  {
   "cell_type": "code",
   "execution_count": 1,
   "id": "678fd5ed-a080-45dc-b979-0792483743ad",
   "metadata": {
    "tags": []
   },
   "outputs": [
    {
     "name": "stdout",
     "output_type": "stream",
     "text": [
      "Requirement already satisfied: azure-ai-textanalytics in /anaconda/envs/azureml_py310_sdkv2/lib/python3.10/site-packages (5.3.0)\n",
      "Requirement already satisfied: azure-core<2.0.0,>=1.24.0 in /anaconda/envs/azureml_py310_sdkv2/lib/python3.10/site-packages (from azure-ai-textanalytics) (1.30.2)\n",
      "Requirement already satisfied: azure-common~=1.1 in /anaconda/envs/azureml_py310_sdkv2/lib/python3.10/site-packages (from azure-ai-textanalytics) (1.1.28)\n",
      "Requirement already satisfied: isodate<1.0.0,>=0.6.1 in /anaconda/envs/azureml_py310_sdkv2/lib/python3.10/site-packages (from azure-ai-textanalytics) (0.6.1)\n",
      "Requirement already satisfied: typing-extensions>=4.0.1 in /anaconda/envs/azureml_py310_sdkv2/lib/python3.10/site-packages (from azure-ai-textanalytics) (4.12.2)\n",
      "Requirement already satisfied: requests>=2.21.0 in /anaconda/envs/azureml_py310_sdkv2/lib/python3.10/site-packages (from azure-core<2.0.0,>=1.24.0->azure-ai-textanalytics) (2.32.3)\n",
      "Requirement already satisfied: six>=1.11.0 in /anaconda/envs/azureml_py310_sdkv2/lib/python3.10/site-packages (from azure-core<2.0.0,>=1.24.0->azure-ai-textanalytics) (1.16.0)\n",
      "Requirement already satisfied: charset-normalizer<4,>=2 in /anaconda/envs/azureml_py310_sdkv2/lib/python3.10/site-packages (from requests>=2.21.0->azure-core<2.0.0,>=1.24.0->azure-ai-textanalytics) (3.3.2)\n",
      "Requirement already satisfied: idna<4,>=2.5 in /anaconda/envs/azureml_py310_sdkv2/lib/python3.10/site-packages (from requests>=2.21.0->azure-core<2.0.0,>=1.24.0->azure-ai-textanalytics) (3.7)\n",
      "Requirement already satisfied: urllib3<3,>=1.21.1 in /anaconda/envs/azureml_py310_sdkv2/lib/python3.10/site-packages (from requests>=2.21.0->azure-core<2.0.0,>=1.24.0->azure-ai-textanalytics) (2.2.1)\n",
      "Requirement already satisfied: certifi>=2017.4.17 in /anaconda/envs/azureml_py310_sdkv2/lib/python3.10/site-packages (from requests>=2.21.0->azure-core<2.0.0,>=1.24.0->azure-ai-textanalytics) (2024.6.2)\n",
      "Note: you may need to restart the kernel to use updated packages.\n"
     ]
    }
   ],
   "source": [
    "%pip install azure-ai-textanalytics"
   ]
  },
  {
   "cell_type": "code",
   "execution_count": 2,
   "id": "5bed6535-2fd9-402f-bae8-9c9a3f311f79",
   "metadata": {
    "tags": []
   },
   "outputs": [],
   "source": [
    "import os\n",
    "from azure.core.credentials import AzureKeyCredential\n",
    "from azure.ai.textanalytics import TextAnalyticsClient"
   ]
  },
  {
   "cell_type": "code",
   "execution_count": 3,
   "id": "93d3c55f-b87b-46ff-821a-30251f52efb2",
   "metadata": {
    "tags": []
   },
   "outputs": [],
   "source": [
    "# Congitive Key and Endpoint Configuration\n",
    "my_key      = '###'\n",
    "my_endpoint = '###'"
   ]
  },
  {
   "cell_type": "code",
   "execution_count": 4,
   "id": "595612c8-fc8e-4758-a28b-a3b64b506673",
   "metadata": {
    "tags": []
   },
   "outputs": [],
   "source": [
    "credential = AzureKeyCredential(my_key)\n",
    "client = TextAnalyticsClient(endpoint=my_endpoint, credential=credential)"
   ]
  },
  {
   "cell_type": "code",
   "execution_count": 5,
   "id": "73b45783-cacd-4be5-ad22-c2b5bdcb0d5a",
   "metadata": {
    "tags": []
   },
   "outputs": [],
   "source": [
    "path = os.path.join('assets', 'movie_reviews')"
   ]
  },
  {
   "cell_type": "code",
   "execution_count": 9,
   "id": "e5ebfe38-b6d3-4e62-a741-34f6f60b5ce7",
   "metadata": {
    "tags": []
   },
   "outputs": [
    {
     "name": "stdout",
     "output_type": "stream",
     "text": [
      "review-0.txt\n",
      "First Contact is not simply as a great Star Trek film. It's wonderfully smart and sophisticated science fiction period. Here's the hook that I like about it, which may or may not have been intentional (but given that Ronald Moore is the co-writer, the beautiful mind behind Battlestar Galactica, I'll say yes): we often think about being from other worlds coming to our own and how we see them and their technology, and that's the point of view, of US seeing the OTHER.\n",
      "\n",
      "review-1.txt\n",
      "It's easily one of the best in the series -- the best, in fact, since Leonard Nimoy and the old Enterprise crew saved the whales in \"Star Trek IV.\"\n",
      "\n",
      "review-2.txt\n",
      "The dialogue has improved and the story elements are more in tune with the show, but there's a wealth of unrealized potential and an equal amount of underdeveloped concepts.\n",
      "\n",
      "review-3.txt\n",
      "It's clear immediately that filmmaker Jonathan Frakes isn't looking to deliver just another episode of the TV series here...\n",
      "\n",
      "review-4.txt\n",
      "First Contact just works. It works as a rousing chapter in the Star Trek saga, and to a lesser extent it works as mainstream entertainment\n",
      "\n",
      "review-5.txt\n",
      "probably my favourite film of all time. The thing about First Contact is that it's not just about Star Trek. If you don't like Star Trek but can live through the first 20 minutes you'll find a gem of a movie which is as much about the future of humanity & an invention so wonderful as it is about Yet More Star Trek Plot.\n",
      "\n",
      "review-6.txt\n",
      "This is one of the two best Star Trek movies ever made (the other being \"Wrath of Khan\"). Everything about this film is superb.... acting, set design, special effects, plot, and action. The story progresses at a breathtaking pace, and from the first 10 minutes when the Enterprise is locked in a life-and-death struggle with one of the best villains in all of sci-fi history (the Borg), to a perfect ending; there isn't a wasted or redundant moment. This is a film that both trekkers and non-trekkers can enjoy because the film explains enough about the back-story to get non-fans up to speed, and does it in a way that will keep the fans interest (check out the excellent opening sequence that introduces Picard's first encounter with the Borg and explains much of his implacable and obsessive attitude towards them throughout the film).\n",
      "\n",
      "review-7.txt\n",
      "Many of the Star Trek Films have relied heavily on character interaction, dialogue, and suggested events to tell the story. Star Trek: First Contact breaks from this tradition by producing a sharp, fast paced action film that never relents from beginning to end. There are moments of reflection for the characters, but the movie has an inertia that makes the other entries in the franchise seem as if they plod along at five miles an hour. The result is one of the most satisfying films in the series.\n",
      "\n",
      "review-8.txt\n",
      "When the Borg launch an attack on Earth, the Enterprise is sent to the neutral zone due to the Admiralty's mistrust of Picard's abilities as he had been assimilated in the past. The Enterprise however, disobeys and returns to help destroy the Borg ship. However a smaller ship escapes and travels back in time, causing the assimilation of Earth in the future. The Enterprise follow the ship back in time and have to undo the damage the ship did on the surface to an experimental warp drive unit that will led Earth to it's first contact with alien life. Meanwhile, on the Enterprise, survivors of the Borg ship begin to assimilate decks within the ship itself.\n",
      "\n",
      "review-9.txt\n",
      "I really enjoyed the Red Dwarf Series, and I wish this movie more of that!\n",
      "\n"
     ]
    }
   ],
   "source": [
    "reviews = []\n",
    "for filename in os.listdir(path):\n",
    "    if filename.startswith(\"review-\") and filename.endswith(\".txt\"):\n",
    "      file_path = os.path.join(path, filename)\n",
    "      text = open(file_path).read()\n",
    "      review = {\"id\": filename, \"text\": text}\n",
    "      reviews.append(review)\n",
    "\n",
    "for i in range(len(reviews)):\n",
    "    print('{}\\n{}\\n'.format(reviews[i]['id'], reviews[i]['text']))"
   ]
  },
  {
   "cell_type": "code",
   "execution_count": 10,
   "id": "bc7a4aac-640f-467f-9acf-79773be63854",
   "metadata": {
    "tags": []
   },
   "outputs": [
    {
     "name": "stdout",
     "output_type": "stream",
     "text": [
      "[ExtractKeyPhrasesResult(id=review-0.txt, key_phrases=['great Star Trek film', 'sophisticated science fiction period', 'First Contact', 'Ronald Moore', 'beautiful mind', 'Battlestar Galactica', 'other worlds', 'smart', 'hook', 'writer', 'technology', 'point', 'view', 'US'], warnings=[], statistics=None, is_error=False, kind=KeyPhraseExtraction), ExtractKeyPhrasesResult(id=review-1.txt, key_phrases=['old Enterprise crew', 'Star Trek IV', 'Leonard Nimoy', 'series', 'fact', 'whales'], warnings=[], statistics=None, is_error=False, kind=KeyPhraseExtraction), ExtractKeyPhrasesResult(id=review-2.txt, key_phrases=['story elements', 'unrealized potential', 'equal amount', 'underdeveloped concepts', 'dialogue', 'tune', 'show', 'wealth'], warnings=[], statistics=None, is_error=False, kind=KeyPhraseExtraction), ExtractKeyPhrasesResult(id=review-3.txt, key_phrases=['filmmaker Jonathan Frakes', 'TV series', 'episode'], warnings=[], statistics=None, is_error=False, kind=KeyPhraseExtraction), ExtractKeyPhrasesResult(id=review-4.txt, key_phrases=['Star Trek saga', 'First Contact', 'rousing chapter', 'lesser extent', 'mainstream entertainment'], warnings=[], statistics=None, is_error=False, kind=KeyPhraseExtraction), ExtractKeyPhrasesResult(id=review-5.txt, key_phrases=['More Star Trek Plot', 'favourite film', 'First Contact', 'first 20 minutes', 'time', 'thing', 'gem', 'movie', 'future', 'humanity', 'invention'], warnings=[], statistics=None, is_error=False, kind=KeyPhraseExtraction), ExtractKeyPhrasesResult(id=review-6.txt, key_phrases=['two best Star Trek movies', 'excellent opening sequence', 'best villains', 'set design', 'special effects', 'breathtaking pace', 'first 10 minutes', 'death struggle', 'sci-fi history', 'perfect ending', 'redundant moment', 'fans interest', 'first encounter', 'obsessive attitude', 'Wrath', 'Khan', 'Everything', 'film', 'acting', 'plot', 'action', 'Enterprise', 'life', 'Borg', 'wasted', 'trekkers', 'back-story', 'non-fans', 'speed', 'way', 'Picard', 'implacable'], warnings=[], statistics=None, is_error=False, kind=KeyPhraseExtraction), ExtractKeyPhrasesResult(id=review-7.txt, key_phrases=['sharp, fast paced action film', 'Star Trek Films', 'satisfying films', 'character interaction', 'First Contact', 'other entries', 'five miles', 'dialogue', 'events', 'story', 'tradition', 'beginning', 'end', 'moments', 'reflection', 'characters', 'movie', 'inertia', 'franchise', 'result', 'series'], warnings=[], statistics=None, is_error=False, kind=KeyPhraseExtraction), ExtractKeyPhrasesResult(id=review-8.txt, key_phrases=['experimental warp drive unit', 'neutral zone', 'first contact', 'alien life', 'The Enterprise', 'smaller ship', 'Borg ship', 'attack', 'Earth', 'Admiralty', 'mistrust', 'Picard', 'abilities', 'past', 'time', 'assimilation', 'future', 'damage', 'surface', 'survivors', 'decks'], warnings=[], statistics=None, is_error=False, kind=KeyPhraseExtraction), ExtractKeyPhrasesResult(id=review-9.txt, key_phrases=['Red Dwarf Series', 'movie'], warnings=[], statistics=None, is_error=False, kind=KeyPhraseExtraction)]\n"
     ]
    }
   ],
   "source": [
    "results = client.extract_key_phrases(documents=reviews)\n",
    "print(results)"
   ]
  },
  {
   "cell_type": "code",
   "execution_count": 11,
   "id": "5350be62-140c-4e22-817d-74021f346dae",
   "metadata": {
    "collapsed": true,
    "jupyter": {
     "outputs_hidden": true
    },
    "tags": []
   },
   "outputs": [
    {
     "name": "stdout",
     "output_type": "stream",
     "text": [
      "0\n",
      "\n",
      "Key Phrases:\n",
      "\t great Star Trek film\n",
      "\t sophisticated science fiction period\n",
      "\t First Contact\n",
      "\t Ronald Moore\n",
      "\t beautiful mind\n",
      "\t Battlestar Galactica\n",
      "\t other worlds\n",
      "\t smart\n",
      "\t hook\n",
      "\t writer\n",
      "\t technology\n",
      "\t point\n",
      "\t view\n",
      "\t US\n",
      "\n",
      "\n",
      "1\n",
      "\n",
      "Key Phrases:\n",
      "\t old Enterprise crew\n",
      "\t Star Trek IV\n",
      "\t Leonard Nimoy\n",
      "\t series\n",
      "\t fact\n",
      "\t whales\n",
      "\n",
      "\n",
      "2\n",
      "\n",
      "Key Phrases:\n",
      "\t story elements\n",
      "\t unrealized potential\n",
      "\t equal amount\n",
      "\t underdeveloped concepts\n",
      "\t dialogue\n",
      "\t tune\n",
      "\t show\n",
      "\t wealth\n",
      "\n",
      "\n",
      "3\n",
      "\n",
      "Key Phrases:\n",
      "\t filmmaker Jonathan Frakes\n",
      "\t TV series\n",
      "\t episode\n",
      "\n",
      "\n",
      "4\n",
      "\n",
      "Key Phrases:\n",
      "\t Star Trek saga\n",
      "\t First Contact\n",
      "\t rousing chapter\n",
      "\t lesser extent\n",
      "\t mainstream entertainment\n",
      "\n",
      "\n",
      "5\n",
      "\n",
      "Key Phrases:\n",
      "\t More Star Trek Plot\n",
      "\t favourite film\n",
      "\t First Contact\n",
      "\t first 20 minutes\n",
      "\t time\n",
      "\t thing\n",
      "\t gem\n",
      "\t movie\n",
      "\t future\n",
      "\t humanity\n",
      "\t invention\n",
      "\n",
      "\n",
      "6\n",
      "\n",
      "Key Phrases:\n",
      "\t two best Star Trek movies\n",
      "\t excellent opening sequence\n",
      "\t best villains\n",
      "\t set design\n",
      "\t special effects\n",
      "\t breathtaking pace\n",
      "\t first 10 minutes\n",
      "\t death struggle\n",
      "\t sci-fi history\n",
      "\t perfect ending\n",
      "\t redundant moment\n",
      "\t fans interest\n",
      "\t first encounter\n",
      "\t obsessive attitude\n",
      "\t Wrath\n",
      "\t Khan\n",
      "\t Everything\n",
      "\t film\n",
      "\t acting\n",
      "\t plot\n",
      "\t action\n",
      "\t Enterprise\n",
      "\t life\n",
      "\t Borg\n",
      "\t wasted\n",
      "\t trekkers\n",
      "\t back-story\n",
      "\t non-fans\n",
      "\t speed\n",
      "\t way\n",
      "\t Picard\n",
      "\t implacable\n",
      "\n",
      "\n",
      "7\n",
      "\n",
      "Key Phrases:\n",
      "\t sharp, fast paced action film\n",
      "\t Star Trek Films\n",
      "\t satisfying films\n",
      "\t character interaction\n",
      "\t First Contact\n",
      "\t other entries\n",
      "\t five miles\n",
      "\t dialogue\n",
      "\t events\n",
      "\t story\n",
      "\t tradition\n",
      "\t beginning\n",
      "\t end\n",
      "\t moments\n",
      "\t reflection\n",
      "\t characters\n",
      "\t movie\n",
      "\t inertia\n",
      "\t franchise\n",
      "\t result\n",
      "\t series\n",
      "\n",
      "\n",
      "8\n",
      "\n",
      "Key Phrases:\n",
      "\t experimental warp drive unit\n",
      "\t neutral zone\n",
      "\t first contact\n",
      "\t alien life\n",
      "\t The Enterprise\n",
      "\t smaller ship\n",
      "\t Borg ship\n",
      "\t attack\n",
      "\t Earth\n",
      "\t Admiralty\n",
      "\t mistrust\n",
      "\t Picard\n",
      "\t abilities\n",
      "\t past\n",
      "\t time\n",
      "\t assimilation\n",
      "\t future\n",
      "\t damage\n",
      "\t surface\n",
      "\t survivors\n",
      "\t decks\n",
      "\n",
      "\n",
      "9\n",
      "\n",
      "Key Phrases:\n",
      "\t Red Dwarf Series\n",
      "\t movie\n",
      "\n",
      "\n"
     ]
    }
   ],
   "source": [
    "for idx, doc in enumerate(results):\n",
    "    print(idx)\n",
    "    print('\\nKey Phrases:')\n",
    "    for key_phrase in doc.key_phrases:\n",
    "        print('\\t', key_phrase)\n",
    "    print('\\n')"
   ]
  },
  {
   "cell_type": "code",
   "execution_count": 12,
   "id": "2413a6eb-75d7-497e-8728-aa23dc3ce245",
   "metadata": {
    "tags": []
   },
   "outputs": [
    {
     "name": "stdout",
     "output_type": "stream",
     "text": [
      "[AnalyzeSentimentResult(id=review-0.txt, sentiment=mixed, warnings=[], statistics=None, confidence_scores=SentimentConfidenceScores(positive=0.66, neutral=0.08, negative=0.26), sentences=[SentenceSentiment(text=First Contact is not simply as a great Star Trek film. , sentiment=negative, confidence_scores=SentimentConfidenceScores(positive=0.01, neutral=0.21, negative=0.77), length=55, offset=0, mined_opinions=[]), SentenceSentiment(text=It's wonderfully smart and sophisticated science fiction period. , sentiment=positive, confidence_scores=SentimentConfidenceScores(positive=1.0, neutral=0.0, negative=0.0), length=65, offset=55, mined_opinions=[]), SentenceSentiment(text=Here's the hook that I like about it, which may or may not have been intentional (but given that Ronald Moore is the co-writer, the beautiful mind behind Battlestar Galactica, I'll say yes): we often think about being from other worlds coming to our own and how we see them and their technology, and that's the point of view, of US seeing the OTH, AnalyzeSentimentResult(id=review-1.txt, sentiment=positive, warnings=[], statistics=None, confidence_scores=SentimentConfidenceScores(positive=1.0, neutral=0.0, negative=0.0), sentences=[SentenceSentiment(text=It's easily one of the best in the series -- the best, in fact, since Leonard Nimoy and the old Enterprise crew saved the whales in \"Star Trek IV.\", sentiment=positive, confidence_scores=SentimentConfidenceScores(positive=1.0, neutral=0.0, negative=0.0), length=147, offset=0, mined_opinions=[])], is_error=False, kind=SentimentAnalysis), AnalyzeSentimentResult(id=review-2.txt, sentiment=positive, warnings=[], statistics=None, confidence_scores=SentimentConfidenceScores(positive=0.49, neutral=0.34, negative=0.17), sentences=[SentenceSentiment(text=The dialogue has improved and the story elements are more in tune with the show, but there's a wealth of unrealized potential and an equal amount of underdeveloped concepts., sentiment=positive, confidence_scores=SentimentConfidenceScores(positive=0.49, neutral=0.34, negative=0.17), length=173, offset=0, mined_opinions=[])], is_error=False, kind=SentimentAnalysis), AnalyzeSentimentResult(id=review-3.txt, sentiment=negative, warnings=[], statistics=None, confidence_scores=SentimentConfidenceScores(positive=0.01, neutral=0.4, negative=0.6), sentences=[SentenceSentiment(text=It's clear immediately that filmmaker Jonathan Frakes isn't looking to deliver just another episode of the TV series here..., sentiment=negative, confidence_scores=SentimentConfidenceScores(positive=0.01, neutral=0.4, negative=0.6), length=124, offset=0, mined_opinions=[])], is_error=False, kind=SentimentAnalysis), AnalyzeSentimentResult(id=review-4.txt, sentiment=positive, warnings=[], statistics=None, confidence_scores=SentimentConfidenceScores(positive=0.95, neutral=0.05, negative=0.0), sentences=[SentenceSentiment(text=First Contact just works. , sentiment=neutral, confidence_scores=SentimentConfidenceScores(positive=0.12, neutral=0.87, negative=0.0), length=26, offset=0, mined_opinions=[]), SentenceSentiment(text=It works as a rousing chapter in the Star Trek saga, and to a lesser extent it works as mainstream entertainment, sentiment=positive, confidence_scores=SentimentConfidenceScores(positive=0.95, neutral=0.05, negative=0.0), length=112, offset=26, mined_opinions=[])], is_error=False, kind=SentimentAnalysis), AnalyzeSentimentResult(id=review-5.txt, sentiment=positive, warnings=[], statistics=None, confidence_scores=SentimentConfidenceScores(positive=1.0, neutral=0.0, negative=0.0), sentences=[SentenceSentiment(text=probably my favourite film of all time. , sentiment=positive, confidence_scores=SentimentConfidenceScores(positive=1.0, neutral=0.0, negative=0.0), length=40, offset=0, mined_opinions=[]), SentenceSentiment(text=The thing about First Contact is that it's not just about Star Trek. , sentiment=neutral, confidence_scores=SentimentConfidenceScores(positive=0.0, neutral=0.88, negative=0.12), length=69, offset=40, mined_opinions=[]), SentenceSentiment(text=If you don't like Star Trek but can live through the first 20 minutes you'll find a gem of a movie which is as much about the future of humanity & an invention so wonderful as it is about Yet More Star Trek Plot., sentiment=positive, confidence_scores=SentimentConfidenceScores(positive=1.0, neutral=0.0, negative=0.0), length=212, offset=109, mined_opinions=, AnalyzeSentimentResult(id=review-6.txt, sentiment=positive, warnings=[], statistics=None, confidence_scores=SentimentConfidenceScores(positive=0.95, neutral=0.02, negative=0.04), sentences=[SentenceSentiment(text=This is one of the two best Star Trek movies ever made (the other being \"Wrath of Khan\"). , sentiment=positive, confidence_scores=SentimentConfidenceScores(positive=0.99, neutral=0.01, negative=0.0), length=90, offset=0, mined_opinions=[]), SentenceSentiment(text=Everything about this film is superb.... , sentiment=positive, confidence_scores=SentimentConfidenceScores(positive=1.0, neutral=0.0, negative=0.0), length=41, offset=90, mined_opinions=[]), SentenceSentiment(text=acting, set design, special effects, plot, and action. , sentiment=neutral, confidence_scores=SentimentConfidenceScores(positive=0.02, neutral=0.98, negative=0.0), length=55, offset=131, mined_opinions=[]), SentenceSentiment(text=The story progresses at a breathtaking pace, and from the first 10 minutes when the Enterprise is locke, AnalyzeSentimentResult(id=review-7.txt, sentiment=mixed, warnings=[], statistics=None, confidence_scores=SentimentConfidenceScores(positive=0.49, neutral=0.16, negative=0.35), sentences=[SentenceSentiment(text=Many of the Star Trek Films have relied heavily on character interaction, dialogue, and suggested events to tell the story. , sentiment=neutral, confidence_scores=SentimentConfidenceScores(positive=0.0, neutral=0.99, negative=0.01), length=124, offset=0, mined_opinions=[]), SentenceSentiment(text=Star Trek: First Contact breaks from this tradition by producing a sharp, fast paced action film that never relents from beginning to end. , sentiment=neutral, confidence_scores=SentimentConfidenceScores(positive=0.24, neutral=0.75, negative=0.0), length=139, offset=124, mined_opinions=[]), SentenceSentiment(text=There are moments of reflection for the characters, but the movie has an inertia that makes the other entries in the franchise seem as if they plod along at five miles an hour. , sentiment=negative, co, AnalyzeSentimentResult(id=review-8.txt, sentiment=negative, warnings=[], statistics=None, confidence_scores=SentimentConfidenceScores(positive=0.0, neutral=0.25, negative=0.74), sentences=[SentenceSentiment(text=When the Borg launch an attack on Earth, the Enterprise is sent to the neutral zone due to the Admiralty's mistrust of Picard's abilities as he had been assimilated in the past. , sentiment=negative, confidence_scores=SentimentConfidenceScores(positive=0.0, neutral=0.07, negative=0.93), length=178, offset=0, mined_opinions=[]), SentenceSentiment(text=The Enterprise however, disobeys and returns to help destroy the Borg ship. , sentiment=negative, confidence_scores=SentimentConfidenceScores(positive=0.01, neutral=0.47, negative=0.52), length=76, offset=178, mined_opinions=[]), SentenceSentiment(text=However a smaller ship escapes and travels back in time, causing the assimilation of Earth in the future. , sentiment=negative, confidence_scores=SentimentConfidenceScores(positive=0.0, neutral=0.46, negati, AnalyzeSentimentResult(id=review-9.txt, sentiment=positive, warnings=[], statistics=None, confidence_scores=SentimentConfidenceScores(positive=1.0, neutral=0.0, negative=0.0), sentences=[SentenceSentiment(text=I really enjoyed the Red Dwarf Series, and I wish this movie more of that!, sentiment=positive, confidence_scores=SentimentConfidenceScores(positive=1.0, neutral=0.0, negative=0.0), length=74, offset=0, mined_opinions=[])], is_error=False, kind=SentimentAnalysis)]\n"
     ]
    }
   ],
   "source": [
    "results = client.analyze_sentiment(documents=reviews)\n",
    "print(results)"
   ]
  },
  {
   "cell_type": "code",
   "execution_count": 23,
   "id": "9e562b56-9100-4688-9fe0-c25e61381bd2",
   "metadata": {
    "tags": []
   },
   "outputs": [
    {
     "name": "stdout",
     "output_type": "stream",
     "text": [
      "0 ===========\n",
      "Sentiment: First Contact is not simply as a great Star Trek film. \n",
      "Sentiment: mixed\n",
      "Scores Positive: 0.66\n",
      "Scores Neutral: 0.08\n",
      "Scores Negative: 0.26\n",
      "1 ===========\n",
      "Sentiment: It's easily one of the best in the series -- the best, in fact, since Leonard Nimoy and the old Enterprise crew saved the whales in \"Star Trek IV.\"\n",
      "Sentiment: positive\n",
      "Scores Positive: 1.0\n",
      "Scores Neutral: 0.0\n",
      "Scores Negative: 0.0\n",
      "2 ===========\n",
      "Sentiment: The dialogue has improved and the story elements are more in tune with the show, but there's a wealth of unrealized potential and an equal amount of underdeveloped concepts.\n",
      "Sentiment: positive\n",
      "Scores Positive: 0.49\n",
      "Scores Neutral: 0.34\n",
      "Scores Negative: 0.17\n",
      "3 ===========\n",
      "Sentiment: It's clear immediately that filmmaker Jonathan Frakes isn't looking to deliver just another episode of the TV series here...\n",
      "Sentiment: negative\n",
      "Scores Positive: 0.01\n",
      "Scores Neutral: 0.4\n",
      "Scores Negative: 0.6\n",
      "4 ===========\n",
      "Sentiment: First Contact just works. \n",
      "Sentiment: positive\n",
      "Scores Positive: 0.95\n",
      "Scores Neutral: 0.05\n",
      "Scores Negative: 0.0\n",
      "5 ===========\n",
      "Sentiment: probably my favourite film of all time. \n",
      "Sentiment: positive\n",
      "Scores Positive: 1.0\n",
      "Scores Neutral: 0.0\n",
      "Scores Negative: 0.0\n",
      "6 ===========\n",
      "Sentiment: This is one of the two best Star Trek movies ever made (the other being \"Wrath of Khan\"). \n",
      "Sentiment: positive\n",
      "Scores Positive: 0.95\n",
      "Scores Neutral: 0.02\n",
      "Scores Negative: 0.04\n",
      "7 ===========\n",
      "Sentiment: Many of the Star Trek Films have relied heavily on character interaction, dialogue, and suggested events to tell the story. \n",
      "Sentiment: mixed\n",
      "Scores Positive: 0.49\n",
      "Scores Neutral: 0.16\n",
      "Scores Negative: 0.35\n",
      "8 ===========\n",
      "Sentiment: When the Borg launch an attack on Earth, the Enterprise is sent to the neutral zone due to the Admiralty's mistrust of Picard's abilities as he had been assimilated in the past. \n",
      "Sentiment: negative\n",
      "Scores Positive: 0.0\n",
      "Scores Neutral: 0.25\n",
      "Scores Negative: 0.74\n",
      "9 ===========\n",
      "Sentiment: I really enjoyed the Red Dwarf Series, and I wish this movie more of that!\n",
      "Sentiment: positive\n",
      "Scores Positive: 1.0\n",
      "Scores Neutral: 0.0\n",
      "Scores Negative: 0.0\n"
     ]
    }
   ],
   "source": [
    "for idx, doc in enumerate(results):\n",
    "    print(idx, \"===========\")\n",
    "    print('Sentiment:', doc.sentences[0].text)  \n",
    "    print('Sentiment:', doc.sentiment)  \n",
    "    print('Scores Positive:', doc.confidence_scores['positive'])\n",
    "    print('Scores Neutral:', doc.confidence_scores['neutral'])\n",
    "    print('Scores Negative:', doc.confidence_scores['negative'])"
   ]
  },
  {
   "cell_type": "code",
   "execution_count": 26,
   "id": "8177d88d-6115-4d52-b4ae-8a9496689cbb",
   "metadata": {
    "tags": []
   },
   "outputs": [
    {
     "name": "stdout",
     "output_type": "stream",
     "text": [
      "[RecognizePiiEntitiesResult(id=review-0.txt, entities=[PiiEntity(text=Ronald Moore, category=Person, subcategory=None, length=12, offset=217, confidence_score=1.0), PiiEntity(text=co-writer, category=PersonType, subcategory=None, length=9, offset=237, confidence_score=0.99)], redacted_text=First Contact is not simply as a great Star Trek film. It's wonderfully smart and sophisticated science fiction period. Here's the hook that I like about it, which may or may not have been intentional (but given that ************ is the *********, the beautiful mind behind Battlestar Galactica, I'll say yes): we often think about being from other worlds coming to our own and how we see them and their technology, and that's the point of view, of US seeing the OTHER., warnings=[], statistics=None, is_error=False, kind=PiiEntityRecognition), RecognizePiiEntitiesResult(id=review-1.txt, entities=[PiiEntity(text=Leonard Nimoy, category=Person, subcategory=None, length=13, offset=70, confidence_score=1.0), PiiEntity(text=Enterprise, category=Organization, subcategory=None, length=10, offset=96, confidence_score=0.9), PiiEntity(text=crew, category=PersonType, subcategory=None, length=4, offset=107, confidence_score=0.44)], redacted_text=It's easily one of the best in the series -- the best, in fact, since ************* and the old ********** **** saved the whales in \"Star Trek IV.\", warnings=[], statistics=None, is_error=False, kind=PiiEntityRecognition), RecognizePiiEntitiesResult(id=review-2.txt, entities=[], redacted_text=The dialogue has improved and the story elements are more in tune with the show, but there's a wealth of unrealized potential and an equal amount of underdeveloped concepts., warnings=[], statistics=None, is_error=False, kind=PiiEntityRecognition), RecognizePiiEntitiesResult(id=review-3.txt, entities=[PiiEntity(text=filmmaker, category=PersonType, subcategory=None, length=9, offset=28, confidence_score=0.97), PiiEntity(text=Jonathan Frakes, category=Person, subcategory=None, length=15, offset=38, confidence_score=1.0)], redacted_text=It's clear immediately that ********* *************** isn't looking to deliver just another episode of the TV series here..., warnings=[], statistics=None, is_error=False, kind=PiiEntityRecognition), RecognizePiiEntitiesResult(id=review-4.txt, entities=[PiiEntity(text=First Contact, category=Organization, subcategory=None, length=13, offset=0, confidence_score=0.63)], redacted_text=************* just works. It works as a rousing chapter in the Star Trek saga, and to a lesser extent it works as mainstream entertainment, warnings=[], statistics=None, is_error=False, kind=PiiEntityRecognition)]\n"
     ]
    }
   ],
   "source": [
    "reviews_first_five = reviews[:5]\n",
    "results = client.recognize_pii_entities(documents=reviews_first_five)\n",
    "print(results)"
   ]
  },
  {
   "cell_type": "code",
   "execution_count": 29,
   "id": "c248fa72-679c-452f-82ab-cc4f34677806",
   "metadata": {
    "tags": []
   },
   "outputs": [
    {
     "name": "stdout",
     "output_type": "stream",
     "text": [
      "0 ===========\n",
      "entities:\n",
      "\t Ronald Moore Person None 1.0\n",
      "\t co-writer PersonType None 0.99\n",
      "\n",
      "\n",
      "1 ===========\n",
      "entities:\n",
      "\t Leonard Nimoy Person None 1.0\n",
      "\t Enterprise Organization None 0.9\n",
      "\t crew PersonType None 0.44\n",
      "\n",
      "\n",
      "2 ===========\n",
      "entities:\n",
      "\n",
      "\n",
      "3 ===========\n",
      "entities:\n",
      "\t filmmaker PersonType None 0.97\n",
      "\t Jonathan Frakes Person None 1.0\n",
      "\n",
      "\n",
      "4 ===========\n",
      "entities:\n",
      "\t First Contact Organization None 0.63\n",
      "\n",
      "\n"
     ]
    }
   ],
   "source": [
    "for idx, doc in enumerate(results):\n",
    "    print(idx, \"===========\")\n",
    "    print(\"entities:\")\n",
    "    for entity in doc.entities:\n",
    "        print('\\t', entity.text, entity.category, entity.subcategory, entity.confidence_score)\n",
    "    print('\\n')    "
   ]
  },
  {
   "cell_type": "code",
   "execution_count": null,
   "id": "12728606-2a7a-4c67-b7d9-6fb027b83401",
   "metadata": {},
   "outputs": [],
   "source": []
  }
 ],
 "metadata": {
  "kernelspec": {
   "display_name": "Python 3.10 - SDK v2",
   "language": "python",
   "name": "python310-sdkv2"
  },
  "language_info": {
   "codemirror_mode": {
    "name": "ipython",
    "version": 3
   },
   "file_extension": ".py",
   "mimetype": "text/x-python",
   "name": "python",
   "nbconvert_exporter": "python",
   "pygments_lexer": "ipython3",
   "version": "3.10.14"
  }
 },
 "nbformat": 4,
 "nbformat_minor": 5
}
