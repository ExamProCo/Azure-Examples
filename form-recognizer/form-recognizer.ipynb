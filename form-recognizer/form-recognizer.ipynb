{
 "cells": [
  {
   "cell_type": "code",
   "execution_count": 1,
   "id": "211f1eec-aa0e-4cc3-83cf-7911b4cdd423",
   "metadata": {
    "tags": []
   },
   "outputs": [
    {
     "name": "stdout",
     "output_type": "stream",
     "text": [
      "Collecting azure.ai.formrecognizer\n",
      "  Downloading azure_ai_formrecognizer-3.3.3-py3-none-any.whl.metadata (64 kB)\n",
      "\u001b[2K     \u001b[90m━━━━━━━━━━━━━━━━━━━━━━━━━━━━━━━━━━━━━━━━\u001b[0m \u001b[32m64.6/64.6 kB\u001b[0m \u001b[31m3.2 MB/s\u001b[0m eta \u001b[36m0:00:00\u001b[0m\n",
      "\u001b[?25hRequirement already satisfied: azure-core>=1.23.0 in /anaconda/envs/azureml_py310_sdkv2/lib/python3.10/site-packages (from azure.ai.formrecognizer) (1.30.2)\n",
      "Requirement already satisfied: msrest>=0.6.21 in /anaconda/envs/azureml_py310_sdkv2/lib/python3.10/site-packages (from azure.ai.formrecognizer) (0.7.1)\n",
      "Requirement already satisfied: azure-common>=1.1 in /anaconda/envs/azureml_py310_sdkv2/lib/python3.10/site-packages (from azure.ai.formrecognizer) (1.1.28)\n",
      "Requirement already satisfied: typing-extensions>=4.0.1 in /anaconda/envs/azureml_py310_sdkv2/lib/python3.10/site-packages (from azure.ai.formrecognizer) (4.12.2)\n",
      "Requirement already satisfied: requests>=2.21.0 in /anaconda/envs/azureml_py310_sdkv2/lib/python3.10/site-packages (from azure-core>=1.23.0->azure.ai.formrecognizer) (2.32.3)\n",
      "Requirement already satisfied: six>=1.11.0 in /anaconda/envs/azureml_py310_sdkv2/lib/python3.10/site-packages (from azure-core>=1.23.0->azure.ai.formrecognizer) (1.16.0)\n",
      "Requirement already satisfied: certifi>=2017.4.17 in /anaconda/envs/azureml_py310_sdkv2/lib/python3.10/site-packages (from msrest>=0.6.21->azure.ai.formrecognizer) (2024.6.2)\n",
      "Requirement already satisfied: isodate>=0.6.0 in /anaconda/envs/azureml_py310_sdkv2/lib/python3.10/site-packages (from msrest>=0.6.21->azure.ai.formrecognizer) (0.6.1)\n",
      "Requirement already satisfied: requests-oauthlib>=0.5.0 in /anaconda/envs/azureml_py310_sdkv2/lib/python3.10/site-packages (from msrest>=0.6.21->azure.ai.formrecognizer) (2.0.0)\n",
      "Requirement already satisfied: charset-normalizer<4,>=2 in /anaconda/envs/azureml_py310_sdkv2/lib/python3.10/site-packages (from requests>=2.21.0->azure-core>=1.23.0->azure.ai.formrecognizer) (3.3.2)\n",
      "Requirement already satisfied: idna<4,>=2.5 in /anaconda/envs/azureml_py310_sdkv2/lib/python3.10/site-packages (from requests>=2.21.0->azure-core>=1.23.0->azure.ai.formrecognizer) (3.7)\n",
      "Requirement already satisfied: urllib3<3,>=1.21.1 in /anaconda/envs/azureml_py310_sdkv2/lib/python3.10/site-packages (from requests>=2.21.0->azure-core>=1.23.0->azure.ai.formrecognizer) (2.2.1)\n",
      "Requirement already satisfied: oauthlib>=3.0.0 in /anaconda/envs/azureml_py310_sdkv2/lib/python3.10/site-packages (from requests-oauthlib>=0.5.0->msrest>=0.6.21->azure.ai.formrecognizer) (3.2.2)\n",
      "Downloading azure_ai_formrecognizer-3.3.3-py3-none-any.whl (301 kB)\n",
      "\u001b[2K   \u001b[90m━━━━━━━━━━━━━━━━━━━━━━━━━━━━━━━━━━━━━━━━\u001b[0m \u001b[32m301.4/301.4 kB\u001b[0m \u001b[31m9.6 MB/s\u001b[0m eta \u001b[36m0:00:00\u001b[0m\n",
      "\u001b[?25hInstalling collected packages: azure.ai.formrecognizer\n",
      "Successfully installed azure.ai.formrecognizer-3.3.3\n",
      "Note: you may need to restart the kernel to use updated packages.\n"
     ]
    }
   ],
   "source": [
    "%pip install azure.ai.formrecognizer"
   ]
  },
  {
   "cell_type": "code",
   "execution_count": 2,
   "id": "ff3d0d66-4f3d-43bc-a6c7-2c6d818e6b3d",
   "metadata": {
    "tags": []
   },
   "outputs": [],
   "source": [
    "import os\n",
    "from PIL import Image, ImageDraw\n",
    "import matplotlib.pyplot as plt\n",
    "\n",
    "from azure.ai.formrecognizer import FormRecognizerClient\n",
    "from azure.core.credentials import AzureKeyCredential"
   ]
  },
  {
   "cell_type": "code",
   "execution_count": 3,
   "id": "453b3fd6-ebe5-4ec0-b17e-d35eef2c6f7f",
   "metadata": {
    "tags": []
   },
   "outputs": [],
   "source": [
    "my_key      = '###'\n",
    "my_endpoint = 'https://###.cognitiveservices.azure.com/'"
   ]
  },
  {
   "cell_type": "code",
   "execution_count": 4,
   "id": "aad4ef67-a9ab-4720-aea6-df47a3c4563b",
   "metadata": {
    "tags": []
   },
   "outputs": [],
   "source": [
    "client = FormRecognizerClient(endpoint=my_endpoint, credential=AzureKeyCredential(my_key))"
   ]
  },
  {
   "cell_type": "code",
   "execution_count": 5,
   "id": "9c2126aa-3f6c-418e-9fd1-df5f4df19b5b",
   "metadata": {
    "tags": []
   },
   "outputs": [],
   "source": [
    "path = os.path.join('receipt.png')"
   ]
  },
  {
   "cell_type": "code",
   "execution_count": 6,
   "id": "7528536d-baab-48fc-88e4-41215f1dd4ba",
   "metadata": {
    "tags": []
   },
   "outputs": [],
   "source": [
    "with open(path, \"rb\") as f:\n",
    "    analyze_receipt = client.begin_recognize_receipts(receipt=f)\n",
    "\n",
    "# Get the results\n",
    "results = analyze_receipt.result()"
   ]
  },
  {
   "cell_type": "code",
   "execution_count": 7,
   "id": "8f3e27e1-7d6d-40d6-a47f-c7524b5e3793",
   "metadata": {
    "tags": []
   },
   "outputs": [
    {
     "name": "stdout",
     "output_type": "stream",
     "text": [
      "RecognizedForm(form_type=prebuilt:receipt, fields={'Items': FormField(value_type=list, label_data=None, value_data=None, name=Items, value=[FormField(value_type=dictionary, label_data=None, value_data=None, name=Items, value={'Name': FormField(value_type=string, label_data=None, value_data=FieldData(page_number=1, text=SM Water, bounding_box=[Point(x=6.0, y=230.0), Point(x=87.0, y=230.0), Point(x=87.0, y=250.0), Point(x=6.0, y=250.0)], field_elements=None), name=Name, value='SM Water', confidence=0.954), 'TotalPrice': FormField(value_type=float, label_data=None, value_data=FieldData(page_number=1, text=0.00, bounding_box=[Point(x=383.0, y=223.0), Point(x=425.0, y=223.0), Point(x=425.0, y=242.0), Point(x=383.0, y=242.0)], field_elements=None), name=TotalPrice, value=0.0, confidence=0.986)}, confidence=1.0), FormField(value_type=dictionary, label_data=None, value_data=None, name=Items, value={'Name': FormField(value_type=string, label_data=None, value_data=FieldData(page_number=1, text=earl gray tea, bounding_b\n"
     ]
    }
   ],
   "source": [
    "print(results[0])"
   ]
  },
  {
   "cell_type": "code",
   "execution_count": 8,
   "id": "66dbc9c3-9884-4aed-a96f-bbbca55660c8",
   "metadata": {
    "tags": []
   },
   "outputs": [
    {
     "name": "stdout",
     "output_type": "stream",
     "text": [
      "{'Items': FormField(value_type=list, label_data=None, value_data=None, name=Items, value=[FormField(value_type=dictionary, label_data=None, value_data=None, name=Items, value={'Name': FormField(value_type=string, label_data=None, value_data=FieldData(page_number=1, text=SM Water, bounding_box=[Point(x=6.0, y=230.0), Point(x=87.0, y=230.0), Point(x=87.0, y=250.0), Point(x=6.0, y=250.0)], field_elements=None), name=Name, value='SM Water', confidence=0.954), 'TotalPrice': FormField(value_type=float, label_data=None, value_data=FieldData(page_number=1, text=0.00, bounding_box=[Point(x=383.0, y=223.0), Point(x=425.0, y=223.0), Point(x=425.0, y=242.0), Point(x=383.0, y=242.0)], field_elements=None), name=TotalPrice, value=0.0, confidence=0.986)}, confidence=1.0), FormField(value_type=dictionary, label_data=None, value_data=None, name=Items, value={'Name': FormField(value_type=string, label_data=None, value_data=FieldData(page_number=1, text=earl gray tea, bounding_box=[Point(x=6.0, y=254.0), Point(x=138.0, y=252.4), Point(x=, 'MerchantAddress': FormField(value_type=string, label_data=None, value_data=FieldData(page_number=1, text=1120 South Lamar Austin, TX 78704, bounding_box=[Point(x=132.1, y=53.7), Point(x=294.5, y=50.7), Point(x=295.4, y=97.0), Point(x=133.0, y=100.0)], field_elements=None), name=MerchantAddress, value='1120 South Lamar Austin, TX 78704', confidence=0.982), 'MerchantName': FormField(value_type=string, label_data=None, value_data=FieldData(page_number=1, text=Alamo Drafthouse Cinema, bounding_box=[Point(x=92.0, y=4.5), Point(x=324.0, y=2.3), Point(x=324.2, y=23.8), Point(x=92.2, y=26.0)], field_elements=None), name=MerchantName, value='Alamo Drafthouse Cinema', confidence=0.981), 'MerchantPhoneNumber': FormField(value_type=phoneNumber, label_data=None, value_data=FieldData(page_number=1, text=512-707-8262, bounding_box=[Point(x=152.0, y=102.0), Point(x=275.0, y=100.0), Point(x=275.0, y=122.0), Point(x=153.0, y=123.0)], field_elements=None), name=MerchantPhoneNumber, value='+15127078262', confidence=0.989), 'ReceiptType': FormField(value_type=string, label_data=None, value_data=None, name=ReceiptType, value='Itemized', confidence=0.995), 'Subtotal': FormField(value_type=float, label_data=None, value_data=FieldData(page_number=1, text=22 49, bounding_box=[Point(x=377.0, y=371.0), Point(x=428.0, y=371.0), Point(x=428.0, y=392.0), Point(x=377.0, y=392.0)], field_elements=None), name=Subtotal, value=None, confidence=0.575), 'Tax': FormField(value_type=float, label_data=None, value_data=FieldData(page_number=1, text=1.86, bounding_box=[Point(x=388.0, y=396.0), Point(x=429.0, y=396.0), Point(x=429.0, y=417.0), Point(x=388.0, y=417.0)], field_elements=None), name=Tax, value=1.86, confidence=0.989), 'Total': FormField(value_type=float, label_data=None, value_data=FieldData(page_number=1, text=24.35, bounding_box=[Point(x=378.0, y=445.0), Point(x=429.0, y=445.0), Point(x=429.0, y=467.0), Point(x=378.0, y=468.0)], field_elements=None), name=Total, value=24.35, confidence=0.986), 'TransactionDate': FormField(value_type=date, label_data=None, value_data=FieldData(page_number=1, text=05/07/2009, bounding_box=[Point(x=323.0, y=125.0), Point(x=424.0, y=123.0), Point(x=425.0, y=144.0), Point(x=323.0, y=146.0)], field_elements=None), name=TransactionDate, value=datetime.date(2009, 5, 7), confidence=0.989), 'TransactionTime': FormField(value_type=time, label_data=None, value_data=FieldData(page_number=1, text=8:04 PM, bounding_box=[Point(x=352.6, y=149.5), Point(x=422.6, y=148.0), Point(x=423.0, y=169.0), Point(x=353.0, y=170.5)], field_elements=None), name=TransactionTime, value=datetime.time(20, 4), confidence=0.988)}\n"
     ]
    }
   ],
   "source": [
    "print(results[0].fields)"
   ]
  },
  {
   "cell_type": "code",
   "execution_count": 10,
   "id": "af35b76b-68e5-4974-a748-dc01a177f0f6",
   "metadata": {
    "tags": []
   },
   "outputs": [
    {
     "name": "stdout",
     "output_type": "stream",
     "text": [
      "+15127078262\n"
     ]
    }
   ],
   "source": [
    "print(results[0].fields.get(\"MerchantPhoneNumber\").value)"
   ]
  },
  {
   "cell_type": "code",
   "execution_count": null,
   "id": "e382cb64-0c5a-45ee-9f7a-9a09f68eef8e",
   "metadata": {},
   "outputs": [],
   "source": []
  }
 ],
 "metadata": {
  "kernelspec": {
   "display_name": "Python 3.10 - SDK v2",
   "language": "python",
   "name": "python310-sdkv2"
  },
  "language_info": {
   "codemirror_mode": {
    "name": "ipython",
    "version": 3
   },
   "file_extension": ".py",
   "mimetype": "text/x-python",
   "name": "python",
   "nbconvert_exporter": "python",
   "pygments_lexer": "ipython3",
   "version": "3.10.14"
  }
 },
 "nbformat": 4,
 "nbformat_minor": 5
}
