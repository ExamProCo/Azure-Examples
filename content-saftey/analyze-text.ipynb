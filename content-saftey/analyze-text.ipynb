{
 "cells": [
  {
   "cell_type": "markdown",
   "id": "09c2c31a-de12-4090-ac79-c19f585c77c8",
   "metadata": {},
   "source": [
    "# Resources\n",
    "\n",
    "- https://github.com/Azure/azure-sdk-for-python/tree/main/sdk/contentsafety/azure-ai-contentsafety"
   ]
  },
  {
   "cell_type": "code",
   "execution_count": null,
   "id": "a5ded67b-4780-4fcf-9f49-c17a1b3fde8b",
   "metadata": {
    "tags": []
   },
   "outputs": [],
   "source": [
    "%pip install azure-ai-contentsafety"
   ]
  },
  {
   "cell_type": "code",
   "execution_count": null,
   "id": "318bb0c7-e839-4527-9059-5fb13a8e8f2a",
   "metadata": {
    "tags": []
   },
   "outputs": [],
   "source": [
    "apikey = \"####\"\n",
    "endpoint = \"https://####.cognitiveservices.azure.com/\""
   ]
  },
  {
   "cell_type": "code",
   "execution_count": null,
   "id": "ed9443bc-f3a9-44d5-90a8-d07339775e85",
   "metadata": {
    "tags": []
   },
   "outputs": [],
   "source": [
    "from azure.ai.contentsafety import ContentSafetyClient\n",
    "from azure.ai.contentsafety.models import TextCategory\n",
    "from azure.core.credentials import AzureKeyCredential\n",
    "from azure.core.exceptions import HttpResponseError\n",
    "from azure.ai.contentsafety.models import AnalyzeTextOptions"
   ]
  },
  {
   "cell_type": "code",
   "execution_count": null,
   "id": "a34cbaee-2dcd-4731-8764-e367671fcb47",
   "metadata": {
    "tags": []
   },
   "outputs": [],
   "source": [
    "credential = AzureKeyCredential(apikey)\n",
    "client = ContentSafetyClient(endpoint, credential)"
   ]
  },
  {
   "cell_type": "code",
   "execution_count": null,
   "id": "7ed12baa-f7a2-47a5-954d-010b80ab9063",
   "metadata": {
    "tags": []
   },
   "outputs": [],
   "source": [
    "request = AnalyzeTextOptions(text=\"You are an idiot\")"
   ]
  },
  {
   "cell_type": "code",
   "execution_count": null,
   "id": "c24af7ac-29c4-440c-b198-c8036afaeb1d",
   "metadata": {
    "tags": []
   },
   "outputs": [],
   "source": [
    "try:\n",
    "    response = client.analyze_text(request)\n",
    "except HttpResponseError as e:\n",
    "    print(\"Analyze text failed.\")\n",
    "    if e.error:\n",
    "        print(f\"Error code: {e.error.code}\")\n",
    "        print(f\"Error message: {e.error.message}\")\n",
    "        raise\n",
    "    print(e)\n",
    "    raise\n",
    "\n",
    "hate_result = next(item for item in response.categories_analysis if item.category == TextCategory.HATE)\n",
    "self_harm_result = next(item for item in response.categories_analysis if item.category == TextCategory.SELF_HARM)\n",
    "sexual_result = next(item for item in response.categories_analysis if item.category == TextCategory.SEXUAL)\n",
    "violence_result = next(item for item in response.categories_analysis if item.category == TextCategory.VIOLENCE)\n",
    "\n",
    "if hate_result:\n",
    "    print(f\"Hate severity: {hate_result.severity}\")\n",
    "if self_harm_result:\n",
    "    print(f\"SelfHarm severity: {self_harm_result.severity}\")\n",
    "if sexual_result:\n",
    "    print(f\"Sexual severity: {sexual_result.severity}\")\n",
    "if violence_result:\n",
    "    print(f\"Violence severity: {violence_result.severity}\")"
   ]
  },
  {
   "cell_type": "code",
   "execution_count": null,
   "id": "2a1129c8-7943-4864-a553-589c9bf07d79",
   "metadata": {},
   "outputs": [],
   "source": []
  }
 ],
 "metadata": {
  "kernelspec": {
   "display_name": "Python 3.10 - SDK v2",
   "language": "python",
   "name": "python310-sdkv2"
  },
  "language_info": {
   "codemirror_mode": {
    "name": "ipython",
    "version": 3
   },
   "file_extension": ".py",
   "mimetype": "text/x-python",
   "name": "python",
   "nbconvert_exporter": "python",
   "pygments_lexer": "ipython3",
   "version": "3.10.14"
  }
 },
 "nbformat": 4,
 "nbformat_minor": 5
}
