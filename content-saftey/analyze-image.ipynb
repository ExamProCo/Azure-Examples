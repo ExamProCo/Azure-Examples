{
 "cells": [
  {
   "cell_type": "code",
   "execution_count": null,
   "id": "87a98849-3a2c-4012-9e04-d3929b48d31c",
   "metadata": {
    "tags": []
   },
   "outputs": [],
   "source": [
    "import os"
   ]
  },
  {
   "cell_type": "code",
   "execution_count": null,
   "id": "7adb6baa-b728-48a5-bf8f-c03a5f3ffceb",
   "metadata": {
    "tags": []
   },
   "outputs": [],
   "source": [
    "%pip install azure-ai-contentsafety"
   ]
  },
  {
   "cell_type": "code",
   "execution_count": null,
   "id": "2c6f1952-2d70-44f9-9e24-c406c6031c6a",
   "metadata": {
    "tags": []
   },
   "outputs": [],
   "source": [
    "apikey = \"###\"\n",
    "endpoint = \"https://####.cognitiveservices.azure.com/\""
   ]
  },
  {
   "cell_type": "code",
   "execution_count": null,
   "id": "5af969ac-66ed-4bff-a16a-ad5c7487a8de",
   "metadata": {
    "tags": []
   },
   "outputs": [],
   "source": [
    "from azure.ai.contentsafety import ContentSafetyClient\n",
    "from azure.ai.contentsafety.models import ImageCategory\n",
    "from azure.core.credentials import AzureKeyCredential\n",
    "from azure.core.exceptions import HttpResponseError\n",
    "from azure.ai.contentsafety.models import AnalyzeImageOptions, ImageData"
   ]
  },
  {
   "cell_type": "code",
   "execution_count": null,
   "id": "d6a68248-3073-4e28-bbdc-51eedd6e3587",
   "metadata": {
    "tags": []
   },
   "outputs": [],
   "source": [
    "credential = AzureKeyCredential(apikey)\n",
    "client = ContentSafetyClient(endpoint, credential)"
   ]
  },
  {
   "cell_type": "code",
   "execution_count": null,
   "id": "703c6fe5-88a3-44e2-ba23-ff51e71ad4a2",
   "metadata": {
    "tags": []
   },
   "outputs": [],
   "source": [
    "current_dir = os.getcwd()\n",
    "image_path = os.path.abspath(os.path.join(current_dir, \"./image.jpg\"))"
   ]
  },
  {
   "cell_type": "code",
   "execution_count": null,
   "id": "4fb633a3-228c-4f02-a502-cdf533009e43",
   "metadata": {
    "tags": []
   },
   "outputs": [],
   "source": [
    "# Build request\n",
    "with open(image_path, \"rb\") as file:\n",
    "    request = AnalyzeImageOptions(image=ImageData(content=file.read()))\n",
    "\n",
    "# Analyze image\n",
    "try:\n",
    "    response = client.analyze_image(request)\n",
    "except HttpResponseError as e:\n",
    "    print(\"Analyze image failed.\")\n",
    "    if e.error:\n",
    "        print(f\"Error code: {e.error.code}\")\n",
    "        print(f\"Error message: {e.error.message}\")\n",
    "        raise\n",
    "    print(e)\n",
    "    raise"
   ]
  },
  {
   "cell_type": "code",
   "execution_count": null,
   "id": "d219172b-8ff1-4fdb-87d1-fa0cf11acbc6",
   "metadata": {
    "tags": []
   },
   "outputs": [],
   "source": [
    "hate_result = next(item for item in response.categories_analysis if item.category == ImageCategory.HATE)\n",
    "self_harm_result = next(item for item in response.categories_analysis if item.category == ImageCategory.SELF_HARM)\n",
    "sexual_result = next(item for item in response.categories_analysis if item.category == ImageCategory.SEXUAL)\n",
    "violence_result = next(item for item in response.categories_analysis if item.category == ImageCategory.VIOLENCE)\n",
    "\n",
    "if hate_result:\n",
    "    print(f\"Hate severity: {hate_result.severity}\")\n",
    "if self_harm_result:\n",
    "    print(f\"SelfHarm severity: {self_harm_result.severity}\")\n",
    "if sexual_result:\n",
    "    print(f\"Sexual severity: {sexual_result.severity}\")\n",
    "if violence_result:\n",
    "    print(f\"Violence severity: {violence_result.severity}\")"
   ]
  },
  {
   "cell_type": "code",
   "execution_count": null,
   "id": "6188aaf9-6286-40af-9720-dc34a6e23c56",
   "metadata": {},
   "outputs": [],
   "source": []
  }
 ],
 "metadata": {
  "kernelspec": {
   "display_name": "Python 3.10 - SDK v2",
   "language": "python",
   "name": "python310-sdkv2"
  },
  "language_info": {
   "codemirror_mode": {
    "name": "ipython",
    "version": 3
   },
   "file_extension": ".py",
   "mimetype": "text/x-python",
   "name": "python",
   "nbconvert_exporter": "python",
   "pygments_lexer": "ipython3",
   "version": "3.10.14"
  }
 },
 "nbformat": 4,
 "nbformat_minor": 5
}
