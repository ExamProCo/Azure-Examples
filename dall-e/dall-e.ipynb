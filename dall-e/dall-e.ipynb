{
 "cells": [
  {
   "cell_type": "code",
   "execution_count": null,
   "id": "e1273c79-72c6-4774-ab6c-56f518c9d1eb",
   "metadata": {
    "tags": []
   },
   "outputs": [],
   "source": [
    "%pip install openai"
   ]
  },
  {
   "cell_type": "code",
   "execution_count": null,
   "id": "9ef14ba8-b849-475c-aedf-813df1adf90c",
   "metadata": {
    "tags": []
   },
   "outputs": [],
   "source": [
    "# Note: DALL-E 3 requires version 1.0.0 of the openai-python library or later\n",
    "import os\n",
    "from openai import AzureOpenAI\n",
    "import json"
   ]
  },
  {
   "cell_type": "code",
   "execution_count": null,
   "id": "781beec4-d1a5-4b4a-a0d6-f7f3da742fbd",
   "metadata": {
    "tags": []
   },
   "outputs": [],
   "source": [
    "endpoint=\"https://###.openai.azure.com/\"\n",
    "apikey=\"###\""
   ]
  },
  {
   "cell_type": "code",
   "execution_count": null,
   "id": "1feec402-6ad6-49b7-8ada-53286eb3af02",
   "metadata": {
    "tags": []
   },
   "outputs": [],
   "source": [
    "client = AzureOpenAI(\n",
    "    api_version=\"2024-05-01-preview\",\n",
    "    azure_endpoint=endpoint,\n",
    "    api_key=apikey,\n",
    ")"
   ]
  },
  {
   "cell_type": "code",
   "execution_count": null,
   "id": "3aac15b9-4e64-40cd-9414-d81b6c381cd7",
   "metadata": {
    "tags": []
   },
   "outputs": [],
   "source": [
    "result = client.images.generate(\n",
    "    model=\"dall-e-3\", # the name of your DALL-E 3 deployment\n",
    "    prompt=\"torii gate on the moon\",\n",
    "    n=1\n",
    ")"
   ]
  },
  {
   "cell_type": "code",
   "execution_count": null,
   "id": "418ac167-6c8a-4cba-bcb2-915c2fa1e08b",
   "metadata": {
    "tags": []
   },
   "outputs": [],
   "source": [
    "image_url = json.loads(result.model_dump_json())['data'][0]['url']"
   ]
  },
  {
   "cell_type": "code",
   "execution_count": null,
   "id": "6f91abe2-6f5d-4eb3-9e4a-9e587f53782b",
   "metadata": {
    "tags": []
   },
   "outputs": [],
   "source": [
    "print(image_url)"
   ]
  },
  {
   "cell_type": "code",
   "execution_count": null,
   "id": "7199b756-f1d9-4f6b-81c9-c171111e8f55",
   "metadata": {
    "tags": []
   },
   "outputs": [],
   "source": [
    "import requests\n",
    "from datetime import datetime\n",
    "# Download and save the image\n",
    "response = requests.get(image_url)\n",
    "if response.status_code == 200:\n",
    "    # Generate a unique filename using the current timestamp\n",
    "    timestamp = datetime.now().strftime(\"%Y%m%d_%H%M%S\")\n",
    "    filename = f\"generated_image_{timestamp}.png\"\n",
    "    \n",
    "    # Save the image in the current directory\n",
    "    with open(filename, 'wb') as f:\n",
    "        f.write(response.content)\n",
    "    print(f\"Image saved as {filename}\")\n",
    "else:\n",
    "    print(\"Failed to download the image\")"
   ]
  },
  {
   "cell_type": "code",
   "execution_count": null,
   "id": "dd3bb399-2f5a-4cf0-a719-57b362dc9b51",
   "metadata": {},
   "outputs": [],
   "source": []
  }
 ],
 "metadata": {
  "kernelspec": {
   "display_name": "Python 3.10 - SDK v2",
   "language": "python",
   "name": "python310-sdkv2"
  },
  "language_info": {
   "codemirror_mode": {
    "name": "ipython",
    "version": 3
   },
   "file_extension": ".py",
   "mimetype": "text/x-python",
   "name": "python",
   "nbconvert_exporter": "python",
   "pygments_lexer": "ipython3",
   "version": "3.10.14"
  }
 },
 "nbformat": 4,
 "nbformat_minor": 5
}
